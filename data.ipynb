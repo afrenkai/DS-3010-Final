{
 "cells": [
  {
   "cell_type": "code",
   "execution_count": 12,
   "metadata": {},
   "outputs": [
    {
     "name": "stdout",
     "output_type": "stream",
     "text": [
      "Requirement already satisfied: statsmodels in c:\\users\\benta\\ds-3010-final\\venv\\lib\\site-packages (0.14.4)\n",
      "Requirement already satisfied: numpy<3,>=1.22.3 in c:\\users\\benta\\ds-3010-final\\venv\\lib\\site-packages (from statsmodels) (2.2.4)\n",
      "Requirement already satisfied: scipy!=1.9.2,>=1.8 in c:\\users\\benta\\ds-3010-final\\venv\\lib\\site-packages (from statsmodels) (1.15.2)\n",
      "Requirement already satisfied: pandas!=2.1.0,>=1.4 in c:\\users\\benta\\ds-3010-final\\venv\\lib\\site-packages (from statsmodels) (2.2.3)\n",
      "Requirement already satisfied: patsy>=0.5.6 in c:\\users\\benta\\ds-3010-final\\venv\\lib\\site-packages (from statsmodels) (1.0.1)\n",
      "Requirement already satisfied: packaging>=21.3 in c:\\users\\benta\\ds-3010-final\\venv\\lib\\site-packages (from statsmodels) (24.2)\n",
      "Requirement already satisfied: python-dateutil>=2.8.2 in c:\\users\\benta\\ds-3010-final\\venv\\lib\\site-packages (from pandas!=2.1.0,>=1.4->statsmodels) (2.9.0.post0)\n",
      "Requirement already satisfied: pytz>=2020.1 in c:\\users\\benta\\ds-3010-final\\venv\\lib\\site-packages (from pandas!=2.1.0,>=1.4->statsmodels) (2025.2)\n",
      "Requirement already satisfied: tzdata>=2022.7 in c:\\users\\benta\\ds-3010-final\\venv\\lib\\site-packages (from pandas!=2.1.0,>=1.4->statsmodels) (2025.2)\n",
      "Requirement already satisfied: six>=1.5 in c:\\users\\benta\\ds-3010-final\\venv\\lib\\site-packages (from python-dateutil>=2.8.2->pandas!=2.1.0,>=1.4->statsmodels) (1.17.0)\n"
     ]
    },
    {
     "name": "stderr",
     "output_type": "stream",
     "text": [
      "\n",
      "[notice] A new release of pip is available: 24.3.1 -> 25.0.1\n",
      "[notice] To update, run: python.exe -m pip install --upgrade pip\n",
      "\n",
      "[notice] A new release of pip is available: 24.3.1 -> 25.0.1\n",
      "[notice] To update, run: python.exe -m pip install --upgrade pip\n"
     ]
    },
    {
     "name": "stdout",
     "output_type": "stream",
     "text": [
      "Requirement already satisfied: seaborn in c:\\users\\benta\\ds-3010-final\\venv\\lib\\site-packages (0.13.2)\n",
      "Requirement already satisfied: numpy!=1.24.0,>=1.20 in c:\\users\\benta\\ds-3010-final\\venv\\lib\\site-packages (from seaborn) (2.2.4)\n",
      "Requirement already satisfied: pandas>=1.2 in c:\\users\\benta\\ds-3010-final\\venv\\lib\\site-packages (from seaborn) (2.2.3)\n",
      "Requirement already satisfied: matplotlib!=3.6.1,>=3.4 in c:\\users\\benta\\ds-3010-final\\venv\\lib\\site-packages (from seaborn) (3.10.1)\n",
      "Requirement already satisfied: contourpy>=1.0.1 in c:\\users\\benta\\ds-3010-final\\venv\\lib\\site-packages (from matplotlib!=3.6.1,>=3.4->seaborn) (1.3.2)\n",
      "Requirement already satisfied: cycler>=0.10 in c:\\users\\benta\\ds-3010-final\\venv\\lib\\site-packages (from matplotlib!=3.6.1,>=3.4->seaborn) (0.12.1)\n",
      "Requirement already satisfied: fonttools>=4.22.0 in c:\\users\\benta\\ds-3010-final\\venv\\lib\\site-packages (from matplotlib!=3.6.1,>=3.4->seaborn) (4.57.0)\n",
      "Requirement already satisfied: kiwisolver>=1.3.1 in c:\\users\\benta\\ds-3010-final\\venv\\lib\\site-packages (from matplotlib!=3.6.1,>=3.4->seaborn) (1.4.8)\n",
      "Requirement already satisfied: packaging>=20.0 in c:\\users\\benta\\ds-3010-final\\venv\\lib\\site-packages (from matplotlib!=3.6.1,>=3.4->seaborn) (24.2)\n",
      "Requirement already satisfied: pillow>=8 in c:\\users\\benta\\ds-3010-final\\venv\\lib\\site-packages (from matplotlib!=3.6.1,>=3.4->seaborn) (11.2.1)\n",
      "Requirement already satisfied: pyparsing>=2.3.1 in c:\\users\\benta\\ds-3010-final\\venv\\lib\\site-packages (from matplotlib!=3.6.1,>=3.4->seaborn) (3.2.3)\n",
      "Requirement already satisfied: python-dateutil>=2.7 in c:\\users\\benta\\ds-3010-final\\venv\\lib\\site-packages (from matplotlib!=3.6.1,>=3.4->seaborn) (2.9.0.post0)\n",
      "Requirement already satisfied: pytz>=2020.1 in c:\\users\\benta\\ds-3010-final\\venv\\lib\\site-packages (from pandas>=1.2->seaborn) (2025.2)\n",
      "Requirement already satisfied: tzdata>=2022.7 in c:\\users\\benta\\ds-3010-final\\venv\\lib\\site-packages (from pandas>=1.2->seaborn) (2025.2)\n",
      "Requirement already satisfied: six>=1.5 in c:\\users\\benta\\ds-3010-final\\venv\\lib\\site-packages (from python-dateutil>=2.7->matplotlib!=3.6.1,>=3.4->seaborn) (1.17.0)\n"
     ]
    }
   ],
   "source": [
    "from make_df import make_df\n",
    "!pip install statsmodels\n",
    "!pip install seaborn\n",
    "import numpy as np\n",
    "import pandas as pd\n",
    "import statsmodels.api as sm\n",
    "train = make_df('train')\n",
    "val = make_df('val')\n",
    "test = make_df('test')"
   ]
  },
  {
   "cell_type": "code",
   "execution_count": null,
   "metadata": {},
   "outputs": [
    {
     "name": "stdout",
     "output_type": "stream",
     "text": [
      "PCA reduced dimensionality from 6 to 6 components.\n",
      "Random Forest (PCA) Validation R²: 0.014628141829269414\n",
      "Random Forest (PCA) Test R²: 0.014109815777057833\n",
      "XGBoost (PCA) Validation R²: 0.014639406464909133\n",
      "XGBoost (PCA) Test R²: 0.014092967987295979\n"
     ]
    }
   ],
   "source": [
    "#Importing StandardScaler from SKlearn\n",
    "from sklearn.preprocessing import StandardScaler\n",
    "#Importing RandomForestRegressor from SKlearn\n",
    "from sklearn.ensemble import RandomForestRegressor\n",
    "#Importing mean_squared_error and R^2 score from SKlearn\n",
    "from sklearn.metrics import mean_squared_error, r2_score\n",
    "#Importing XGboost\n",
    "import xgboost as xgb\n",
    "#Defining features\n",
    "features = ['KWG', 'KWI', 'STRM', 'STRN', 'SA', 'SB']\n",
    "#Defining target variable\n",
    "target = 'Run1'\n",
    "#Assigning training data\n",
    "X_train = train[features]\n",
    "y_train = train[target]\n",
    "#Assigning validation data\n",
    "X_val = val[features]\n",
    "y_val = val[target]\n",
    "#Assigning testing data\n",
    "X_test = test[features]\n",
    "y_test = test[target]\n",
    "#Scaling features\n",
    "scaler = StandardScaler()\n",
    "X_train_scaled = scaler.fit_transform(X_train)\n",
    "X_val_scaled = scaler.transform(X_val)\n",
    "X_test_scaled = scaler.transform(X_test)\n",
    "#Performing PCA \n",
    "pca = PCA(n_components=0.95)\n",
    "X_train_pca = pca.fit_transform(X_train_scaled)\n",
    "X_val_pca = pca.transform(X_val_scaled)\n",
    "X_test_pca = pca.transform(X_test_scaled)\n",
    "#Making a random forest on the training data\n",
    "rf = RandomForestRegressor(n_estimators=200, max_depth=20, random_state=1)\n",
    "rf.fit(X_train_pca, y_train)\n",
    "#Making predictions on validation set and testing set\n",
    "y_val_pred_rf = rf.predict(X_val_pca)\n",
    "y_test_pred_rf = rf.predict(X_test_pca)\n",
    "#Displaying R^2 of validation set and testing set\n",
    "print(\"Random Forest (PCA) Validation R²:\", r2_score(y_val, y_val_pred_rf))\n",
    "print(\"Random Forest (PCA) Test R²:\", r2_score(y_test, y_test_pred_rf))\n",
    "#Making an XGboost on the training data\n",
    "xgb_model = xgb.XGBRegressor(n_estimators=200, learning_rate=0.1, max_depth=6, random_state=1)\n",
    "xgb_model.fit(X_train_pca, y_train)\n",
    "#Making predictions on validation set and testing set\n",
    "y_val_pred_xgb = xgb_model.predict(X_val_pca)\n",
    "y_test_pred_xgb = xgb_model.predict(X_test_pca)\n",
    "#Displaying R^2 of validation set and testing set\n",
    "print(\"XGBoost (PCA) Validation R²:\", r2_score(y_val, y_val_pred_xgb))\n",
    "print(\"XGBoost (PCA) Test R²:\", r2_score(y_test, y_test_pred_xgb))\n"
   ]
  }
 ],
 "metadata": {
  "kernelspec": {
   "display_name": "venv",
   "language": "python",
   "name": "python3"
  },
  "language_info": {
   "codemirror_mode": {
    "name": "ipython",
    "version": 3
   },
   "file_extension": ".py",
   "mimetype": "text/x-python",
   "name": "python",
   "nbconvert_exporter": "python",
   "pygments_lexer": "ipython3",
   "version": "3.13.2"
  }
 },
 "nbformat": 4,
 "nbformat_minor": 2
}
