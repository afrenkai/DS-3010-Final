{
 "cells": [
  {
   "cell_type": "code",
   "execution_count": 1,
   "metadata": {},
   "outputs": [
    {
     "name": "stderr",
     "output_type": "stream",
     "text": [
      "/home/artem/Projects/School/24-25/DS3010/DS-3010-Final/venv/lib/python3.12/site-packages/tqdm/auto.py:21: TqdmWarning: IProgress not found. Please update jupyter and ipywidgets. See https://ipywidgets.readthedocs.io/en/stable/user_install.html\n",
      "  from .autonotebook import tqdm as notebook_tqdm\n"
     ]
    },
    {
     "name": "stdout",
     "output_type": "stream",
     "text": [
      "   KWG  KWI  STRM  STRN  SA  SB    Run2    Run3    Run4      Run1\n",
      "0    0    1     1     1   0   0   44.76   44.81   42.69  3.825811\n",
      "1    1    0     0     0   1   0  122.32  122.21  122.18  4.813809\n",
      "2    1    0     1     1   1   1  241.11  239.09  240.34  5.483136\n",
      "3    0    0     1     1   0   0  279.85  279.35  279.90  5.637500\n",
      "4    1    1     0     0   0   0   39.51   39.62   39.57  3.703029\n",
      "                 KWG            KWI           STRM           STRN  \\\n",
      "count  193280.000000  193280.000000  193280.000000  193280.000000   \n",
      "mean        0.596197       0.499757       0.499886       0.500285   \n",
      "std         0.490660       0.500001       0.500001       0.500001   \n",
      "min         0.000000       0.000000       0.000000       0.000000   \n",
      "25%         0.000000       0.000000       0.000000       0.000000   \n",
      "50%         1.000000       0.000000       0.000000       1.000000   \n",
      "75%         1.000000       1.000000       1.000000       1.000000   \n",
      "max         1.000000       1.000000       1.000000       1.000000   \n",
      "\n",
      "                  SA             SB           Run2           Run3  \\\n",
      "count  193280.000000  193280.000000  193280.000000  193280.000000   \n",
      "mean        0.501076       0.499752     217.045003     216.998274   \n",
      "std         0.500000       0.500001     367.249651     367.232599   \n",
      "min         0.000000       0.000000      13.250000      13.360000   \n",
      "25%         0.000000       0.000000      40.730000      40.680000   \n",
      "50%         1.000000       0.000000      69.950000      69.820000   \n",
      "75%         1.000000       1.000000     227.880000     227.900000   \n",
      "max         1.000000       1.000000    3375.420000    3397.080000   \n",
      "\n",
      "                Run4           Run1  \n",
      "count  193280.000000  193280.000000  \n",
      "mean      216.995156       4.637791  \n",
      "std       367.260938       1.116854  \n",
      "min        13.370000       2.659560  \n",
      "25%        40.660000       3.729781  \n",
      "50%        69.840000       4.260424  \n",
      "75%       227.882500       5.433951  \n",
      "max      3353.570000       8.109270  \n"
     ]
    }
   ],
   "source": [
    "from make_df import make_df\n",
    "\n",
    "df = make_df('train')\n",
    "print(df.head())\n",
    "print(df.describe())\n"
   ]
  }
 ],
 "metadata": {
  "kernelspec": {
   "display_name": "venv",
   "language": "python",
   "name": "python3"
  },
  "language_info": {
   "codemirror_mode": {
    "name": "ipython",
    "version": 3
   },
   "file_extension": ".py",
   "mimetype": "text/x-python",
   "name": "python",
   "nbconvert_exporter": "python",
   "pygments_lexer": "ipython3",
   "version": "3.12.3"
  }
 },
 "nbformat": 4,
 "nbformat_minor": 2
}
